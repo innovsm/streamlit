{
 "cells": [
  {
   "cell_type": "code",
   "execution_count": 1,
   "metadata": {},
   "outputs": [],
   "source": [
    "import altair as alt\n",
    "import streamlit as stream\n",
    "import pandas as pd\n",
    "import numpy as np\n",
    "import matplotlib.pyplot as plt\n"
   ]
  },
  {
   "cell_type": "code",
   "execution_count": null,
   "metadata": {},
   "outputs": [],
   "source": [
    "data_1 = np.random.rand()"
   ]
  },
  {
   "cell_type": "code",
   "execution_count": 7,
   "metadata": {},
   "outputs": [],
   "source": [
    "data_1 = pd.DataFrame(np.random.rand(20,3),columns= ['a','b','c'])"
   ]
  },
  {
   "cell_type": "code",
   "execution_count": 10,
   "metadata": {},
   "outputs": [
    {
     "data": {
      "text/plain": [
       "[-1, 2, 2, 3]"
      ]
     },
     "execution_count": 10,
     "metadata": {},
     "output_type": "execute_result"
    }
   ],
   "source": [
    "x = [2,3,-1,2]\n",
    "x.sort()\n",
    "x"
   ]
  },
  {
   "cell_type": "code",
   "execution_count": 13,
   "metadata": {},
   "outputs": [
    {
     "data": {
      "text/plain": [
       "[(1, 5), (5, 1), (7, -1), (-1, 7)]"
      ]
     },
     "execution_count": 13,
     "metadata": {},
     "output_type": "execute_result"
    }
   ],
   "source": [
    "# Given an array of N integers \n",
    "# and a number K, the task is to find the number of pairs of integers in the array whose sum is equal to K\n",
    "list_1  = [1, 5, 7, -1]\n",
    "pair_list = []\n",
    "sum = 6\n",
    "for i in range(len(list_1)):\n",
    "    for i1 in range(len(list_1)):\n",
    "        if(list_1[i] + list_1[i1] == sum):\n",
    "            pair_list.append((list_1[i], list_1[i1]))\n",
    "pair_list\n"
   ]
  },
  {
   "cell_type": "code",
   "execution_count": 22,
   "metadata": {},
   "outputs": [
    {
     "data": {
      "text/plain": [
       "6"
      ]
     },
     "execution_count": 22,
     "metadata": {},
     "output_type": "execute_result"
    }
   ],
   "source": [
    "# question - 4\n",
    "x = [3, 4, 1, 9, 56, 7, 9, 12] #  chclate packates with number of choclate\n",
    "m = 5  # number of students\n",
    "x.sort()\n",
    "list_minmum = []\n",
    "for i in range(len(x)):\n",
    "    inital_number = x[i]\n",
    "    try:\n",
    "        after_max =  max(x[i+1: i+5])\n",
    "    except:\n",
    "        after_max = 0\n",
    "    list_minmum.append(abs(after_max - inital_number))\n",
    "min(list_minmum)"
   ]
  },
  {
   "cell_type": "code",
   "execution_count": 2,
   "metadata": {},
   "outputs": [
    {
     "data": {
      "text/plain": [
       "8"
      ]
     },
     "execution_count": 2,
     "metadata": {},
     "output_type": "execute_result"
    }
   ],
   "source": [
    "# question - 5\n",
    "x = [9, 2, 3, 4, 5, 6, 7, 8, 18, 0]\n",
    "final_list = []\n",
    "for i in range(len(x)):\n",
    "    for i1 in range(len(x)):\n",
    "        if(x[i1] > x[i]):\n",
    "            final_list.append(i1-i)\n",
    "max(final_list)\n"
   ]
  },
  {
   "attachments": {},
   "cell_type": "markdown",
   "metadata": {},
   "source": [
    "<h1> problem - 6 </h1>"
   ]
  },
  {
   "cell_type": "code",
   "execution_count": 4,
   "metadata": {},
   "outputs": [
    {
     "data": {
      "text/plain": [
       "'hOW aREE yOUU?'"
      ]
     },
     "execution_count": 4,
     "metadata": {},
     "output_type": "execute_result"
    }
   ],
   "source": [
    "# You are given a string and your task is to swap cases\n",
    "#. In other words, convert all lowercase letters to uppercase letters and vice versa.\n",
    "x = \"How Aree Youu?\"   # wWW.gOoGLE.COM -- output file\n",
    "final_string = \"\"\n",
    "for i in x:\n",
    "    if(i.isupper()):\n",
    "        final_string += i.lower()\n",
    "    else:\n",
    "        final_string += i.upper()\n",
    "\n",
    "final_string\n"
   ]
  },
  {
   "attachments": {},
   "cell_type": "markdown",
   "metadata": {},
   "source": [
    "<h1> problem - 7  </h1>"
   ]
  },
  {
   "cell_type": "code",
   "execution_count": 14,
   "metadata": {},
   "outputs": [
    {
     "data": {
      "text/plain": [
       "[1, 4, 2, 5, 3, 6]"
      ]
     },
     "execution_count": 14,
     "metadata": {},
     "output_type": "execute_result"
    }
   ],
   "source": [
    "alfa = [1, 2, 3, 4, 5, 6]  # output = 1 9 2 15\n",
    "i= 0\n",
    "final_list = []\n",
    "while(i < len(alfa)/2):\n",
    "    final_list.append(alfa[i])\n",
    "    le_1 = int(len(alfa)/2)\n",
    "    final_list.append(alfa[i+le_1])\n",
    "    i += 1\n",
    "final_list\n",
    "\n"
   ]
  },
  {
   "attachments": {},
   "cell_type": "markdown",
   "metadata": {},
   "source": [
    "<h1> problem - 8 </h1>"
   ]
  },
  {
   "cell_type": "code",
   "execution_count": 15,
   "metadata": {},
   "outputs": [],
   "source": [
    "x = [-4, 1, -8, 9, 6] # output ->  (-8, -4, 9)\n",
    "x.sort()"
   ]
  },
  {
   "cell_type": "code",
   "execution_count": 21,
   "metadata": {},
   "outputs": [
    {
     "data": {
      "text/plain": [
       "[0, 1, 1, 2, 2, 1, 1, 3, 3, 2, 2, 2]"
      ]
     },
     "execution_count": 21,
     "metadata": {},
     "output_type": "execute_result"
    }
   ],
   "source": [
    "# experiment -- 1\n",
    "x = [0, 1, 0, 2, 1, 0, 1, 3, 2, 1, 2, 1] # 6\n",
    "for i in range(len(x)):    #------------------ step - 1\n",
    "    if(i != 0):\n",
    "        if(x[i] < x[i-1]):\n",
    "            x[i] += 1 \n",
    "\n",
    "x"
   ]
  },
  {
   "cell_type": "code",
   "execution_count": 19,
   "metadata": {},
   "outputs": [
    {
     "data": {
      "text/plain": [
       "(14, 12)"
      ]
     },
     "execution_count": 19,
     "metadata": {},
     "output_type": "execute_result"
    }
   ],
   "source": [
    "x = [0, 1, 0, 2, 1, 0, 1, 3, 2, 1, 2, 1] # 6\n",
    "signla_1 = 0\n",
    "while(signla_1 != 1):\n",
    "    for i in range(len(x)):\n",
    "        print(i)\n"
   ]
  },
  {
   "cell_type": "code",
   "execution_count": null,
   "metadata": {},
   "outputs": [],
   "source": [
    "# approach -- 2\n",
    "x = [0, 1, 0, 2, 1, 0, 1, 3, 2, 1, 2, 1] # 6\n",
    "total_storge = 0\n",
    "for i in range(len(x)):\n",
    "    for j in range(len(x[i+1:])):\n",
    "        if(x[j] >= x[i]):\n",
    "            \n",
    "    "
   ]
  }
 ],
 "metadata": {
  "kernelspec": {
   "display_name": "data_science",
   "language": "python",
   "name": "python3"
  },
  "language_info": {
   "codemirror_mode": {
    "name": "ipython",
    "version": 3
   },
   "file_extension": ".py",
   "mimetype": "text/x-python",
   "name": "python",
   "nbconvert_exporter": "python",
   "pygments_lexer": "ipython3",
   "version": "3.10.9"
  },
  "orig_nbformat": 4
 },
 "nbformat": 4,
 "nbformat_minor": 2
}
